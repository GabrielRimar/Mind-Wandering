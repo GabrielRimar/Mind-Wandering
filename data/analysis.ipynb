{
 "cells": [
  {
   "cell_type": "code",
   "execution_count": 2,
   "metadata": {},
   "outputs": [],
   "source": [
    "import pandas as pd\n",
    "import numpy as np\n",
    "import seaborn as sns\n",
    "import matplotlib.pyplot as plt"
   ]
  },
  {
   "cell_type": "code",
   "execution_count": 12,
   "metadata": {},
   "outputs": [],
   "source": [
    "gaze_df = pd.read_csv('gaze_log.csv')"
   ]
  },
  {
   "cell_type": "code",
   "execution_count": 7,
   "metadata": {},
   "outputs": [
    {
     "data": {
      "text/plain": [
       "<bound method NDFrame.head of     left_eye_from_center right_eye_from_center  time_start  time_end  \\\n",
       "0            [0.0, -1.5]          [-1.0, -1.0]    1.959574  2.537568   \n",
       "1           [-1.0, -1.5]           [-2.0, 0.0]    2.537568  2.602491   \n",
       "2            [0.5, -1.5]           [0.0, -1.0]    2.602491  2.649572   \n",
       "3            [0.5, -1.5]           [0.0, -1.0]    2.649572  2.697045   \n",
       "4           [-0.5, -1.5]           [1.0, -1.5]    2.697045  2.744644   \n",
       "..                   ...                   ...         ...       ...   \n",
       "113         [-3.0, -1.0]           [0.0, -0.5]    8.073423  8.119355   \n",
       "114         [-3.0, -1.0]           [0.0, -0.5]    8.119355  8.165853   \n",
       "115         [-3.5, -1.0]           [1.0, -1.0]    8.165853  8.212563   \n",
       "116         [-3.5, -1.0]           [1.0, -1.0]    8.212563  8.259641   \n",
       "117         [-3.0, -1.0]           [1.5, -1.5]    8.259641  8.306438   \n",
       "\n",
       "    left_eye_dim right_eye_dim  \n",
       "0       (27, 44)      (26, 40)  \n",
       "1       (27, 43)      (26, 38)  \n",
       "2       (27, 43)      (26, 38)  \n",
       "3       (27, 43)      (27, 38)  \n",
       "4       (27, 44)      (27, 40)  \n",
       "..           ...           ...  \n",
       "113     (26, 42)      (25, 42)  \n",
       "114     (26, 41)      (24, 40)  \n",
       "115     (26, 41)      (24, 40)  \n",
       "116     (26, 42)      (25, 41)  \n",
       "117     (26, 42)      (26, 41)  \n",
       "\n",
       "[118 rows x 6 columns]>"
      ]
     },
     "execution_count": 7,
     "metadata": {},
     "output_type": "execute_result"
    }
   ],
   "source": [
    "gaze_df.head"
   ]
  },
  {
   "cell_type": "markdown",
   "metadata": {},
   "source": [
    "Eye position:\n",
    "Where the pupil is relative to the whole eye |---o---| = 50%"
   ]
  },
  {
   "cell_type": "code",
   "execution_count": null,
   "metadata": {},
   "outputs": [],
   "source": [
    "gaze_df['Right_eye_pos'] = ga"
   ]
  }
 ],
 "metadata": {
  "kernelspec": {
   "display_name": "Python 3",
   "language": "python",
   "name": "python3"
  },
  "language_info": {
   "codemirror_mode": {
    "name": "ipython",
    "version": 3
   },
   "file_extension": ".py",
   "mimetype": "text/x-python",
   "name": "python",
   "nbconvert_exporter": "python",
   "pygments_lexer": "ipython3",
   "version": "3.9.13"
  }
 },
 "nbformat": 4,
 "nbformat_minor": 2
}
